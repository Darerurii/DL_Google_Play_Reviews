{
 "cells": [
  {
   "cell_type": "code",
   "execution_count": 1,
   "id": "c2de83a8-8e23-45ce-b899-bb52ff7aa075",
   "metadata": {},
   "outputs": [
    {
     "name": "stderr",
     "output_type": "stream",
     "text": [
      "[nltk_data] Downloading package stopwords to\n",
      "[nltk_data]     C:\\Users\\Admin\\AppData\\Roaming\\nltk_data...\n",
      "[nltk_data]   Package stopwords is already up-to-date!\n",
      "[nltk_data] Downloading package punkt to\n",
      "[nltk_data]     C:\\Users\\Admin\\AppData\\Roaming\\nltk_data...\n",
      "[nltk_data]   Package punkt is already up-to-date!\n"
     ]
    }
   ],
   "source": [
    "from tensorflow.keras.models import Sequential\n",
    "from tensorflow.keras.preprocessing import sequence \n",
    "from tensorflow.keras import models \n",
    "from tensorflow.keras import layers \n",
    "from tensorflow.keras import optimizers \n",
    "from tensorflow.keras import regularizers \n",
    "from tensorflow.keras.layers import Embedding, Flatten, Dense \n",
    "import tensorflow as tf\n",
    "import keras\n",
    "import os\n",
    "import numpy as np\n",
    "import pandas as pd\n",
    "import matplotlib.pyplot as plt\n",
    "from keras import callbacks\n",
    "from tensorflow.keras.preprocessing.text import Tokenizer \n",
    "from tensorflow.keras.preprocessing.sequence import pad_sequences\n",
    "from time import time\n",
    "import re\n",
    "\n",
    "from copy import deepcopy\n",
    "from keras.layers import *\n",
    "from sklearn.model_selection import train_test_split\n",
    "from gensim.models import Word2Vec\n",
    "import matplotlib.pyplot as plt\n",
    "from sklearn.metrics import *\n",
    "from nltk import word_tokenize\n",
    "from nltk.corpus import stopwords\n",
    "from nltk.stem import PorterStemmer, WordNetLemmatizer\n",
    "import nltk\n",
    "nltk.download('stopwords')\n",
    "nltk.download('punkt')\n",
    "\n",
    "import warnings\n",
    "warnings.filterwarnings(\"ignore\")"
   ]
  },
  {
   "cell_type": "code",
   "execution_count": 2,
   "id": "d0c7d56d-575c-4a32-ac96-d5a42b8cb80e",
   "metadata": {},
   "outputs": [
    {
     "data": {
      "text/html": [
       "<div>\n",
       "<style scoped>\n",
       "    .dataframe tbody tr th:only-of-type {\n",
       "        vertical-align: middle;\n",
       "    }\n",
       "\n",
       "    .dataframe tbody tr th {\n",
       "        vertical-align: top;\n",
       "    }\n",
       "\n",
       "    .dataframe thead th {\n",
       "        text-align: right;\n",
       "    }\n",
       "</style>\n",
       "<table border=\"1\" class=\"dataframe\">\n",
       "  <thead>\n",
       "    <tr style=\"text-align: right;\">\n",
       "      <th></th>\n",
       "      <th>content</th>\n",
       "      <th>score</th>\n",
       "    </tr>\n",
       "  </thead>\n",
       "  <tbody>\n",
       "    <tr>\n",
       "      <th>0</th>\n",
       "      <td>Does every damn video I watch has 16 seconds o...</td>\n",
       "      <td>1</td>\n",
       "    </tr>\n",
       "    <tr>\n",
       "      <th>1</th>\n",
       "      <td>Good</td>\n",
       "      <td>5</td>\n",
       "    </tr>\n",
       "    <tr>\n",
       "      <th>2</th>\n",
       "      <td>Hgb</td>\n",
       "      <td>5</td>\n",
       "    </tr>\n",
       "    <tr>\n",
       "      <th>3</th>\n",
       "      <td>Oo his is so amazing app</td>\n",
       "      <td>5</td>\n",
       "    </tr>\n",
       "    <tr>\n",
       "      <th>4</th>\n",
       "      <td>My Facebook marketplace is not work</td>\n",
       "      <td>1</td>\n",
       "    </tr>\n",
       "    <tr>\n",
       "      <th>...</th>\n",
       "      <td>...</td>\n",
       "      <td>...</td>\n",
       "    </tr>\n",
       "    <tr>\n",
       "      <th>300595</th>\n",
       "      <td>Nc</td>\n",
       "      <td>5</td>\n",
       "    </tr>\n",
       "    <tr>\n",
       "      <th>300596</th>\n",
       "      <td>Good</td>\n",
       "      <td>5</td>\n",
       "    </tr>\n",
       "    <tr>\n",
       "      <th>300597</th>\n",
       "      <td>👍</td>\n",
       "      <td>5</td>\n",
       "    </tr>\n",
       "    <tr>\n",
       "      <th>300598</th>\n",
       "      <td>Good</td>\n",
       "      <td>5</td>\n",
       "    </tr>\n",
       "    <tr>\n",
       "      <th>300599</th>\n",
       "      <td>রাজু ইসলাম খান</td>\n",
       "      <td>5</td>\n",
       "    </tr>\n",
       "  </tbody>\n",
       "</table>\n",
       "<p>300600 rows × 2 columns</p>\n",
       "</div>"
      ],
      "text/plain": [
       "                                                  content  score\n",
       "0       Does every damn video I watch has 16 seconds o...      1\n",
       "1                                                    Good      5\n",
       "2                                                     Hgb      5\n",
       "3                                Oo his is so amazing app      5\n",
       "4                     My Facebook marketplace is not work      1\n",
       "...                                                   ...    ...\n",
       "300595                                                 Nc      5\n",
       "300596                                               Good      5\n",
       "300597                                                  👍      5\n",
       "300598                                               Good      5\n",
       "300599                                     রাজু ইসলাম খান      5\n",
       "\n",
       "[300600 rows x 2 columns]"
      ]
     },
     "execution_count": 2,
     "metadata": {},
     "output_type": "execute_result"
    }
   ],
   "source": [
    "reviews=pd.read_csv(\"FacebookBig.csv\").loc[:, ['content', 'score']]\n",
    "reviews"
   ]
  },
  {
   "cell_type": "code",
   "execution_count": 3,
   "id": "1dd6cd26-cba8-4c93-ae04-76fc6fa2f27a",
   "metadata": {},
   "outputs": [
    {
     "data": {
      "text/plain": [
       "5    166722\n",
       "1     77208\n",
       "4     21881\n",
       "3     18124\n",
       "2     16665\n",
       "Name: score, dtype: int64"
      ]
     },
     "execution_count": 3,
     "metadata": {},
     "output_type": "execute_result"
    }
   ],
   "source": [
    "reviews['score'].value_counts()"
   ]
  },
  {
   "cell_type": "code",
   "execution_count": 4,
   "id": "9cd02472-26a6-4b41-935c-6191347386b0",
   "metadata": {},
   "outputs": [
    {
     "name": "stdout",
     "output_type": "stream",
     "text": [
      "{'n', 'F', 'M', 'Q', 's', 't', 'l', 'Y', 'G', 'O', 'C', 'o', 'V', 'P', 'g', 'X', 'f', 'h', 'B', 'w', ' ', 'c', 'J', 'u', 'j', 'K', 'r', 'W', 'i', 'y', 'm', 'Z', 'k', 'b', 'A', 'e', 'z', 'p', 'H', 'R', 'N', 'D', 'q', 'S', 'L', 'T', 'x', 'E', 'd', 'I', 'v', 'U', 'a'}\n",
      "\n",
      "set()\n",
      "\n",
      "<PorterStemmer>\n",
      "<WordNetLemmatizer>\n"
     ]
    }
   ],
   "source": [
    "ENGLISH_CHARACTERS = 'abcdefgjihklmnopqrstuvwxyz'\n",
    "ENGLISH_CHARACTERS += ENGLISH_CHARACTERS.upper() + ' '\n",
    "ENGLISH_CHARACTERS = set(ENGLISH_CHARACTERS)\n",
    "#!?.,\\'\"\n",
    "ENGLISH_STOPWORDS = set(stopwords.words('english'))\n",
    "\n",
    "# for word in \"wouldn't doesn't couldn't shouldn't didn't haven't aren't mightn't wasn't weren't hasn't hadn't\".split():\n",
    "#     ENGLISH_STOPWORDS.remove(word)\n",
    "\n",
    "ENGLISH_STOPWORDS = set()\n",
    "    \n",
    "stemmer = PorterStemmer()\n",
    "lemma = WordNetLemmatizer()\n",
    "    \n",
    "print(ENGLISH_CHARACTERS)\n",
    "print()\n",
    "print(ENGLISH_STOPWORDS)\n",
    "print()\n",
    "print(stemmer)\n",
    "print(lemma)"
   ]
  },
  {
   "cell_type": "code",
   "execution_count": 5,
   "id": "9d42979f-40f9-43a9-81f2-46525c79f5da",
   "metadata": {},
   "outputs": [
    {
     "data": {
      "text/plain": [
       "'today my whatsapp account ha been blocked'"
      ]
     },
     "execution_count": 5,
     "metadata": {},
     "output_type": "execute_result"
    }
   ],
   "source": [
    "'''\n",
    "non-english characters\n",
    "    if too many, we remove it\n",
    "\n",
    "lowercase\n",
    "stopword removal\n",
    "stemming\n",
    "'''\n",
    "\n",
    "\n",
    "def clean(text):\n",
    "    text = text.lower()\n",
    "    \n",
    "    # removal of non-english characters\n",
    "    new = ''\n",
    "    for ch in text:\n",
    "        if ch in ENGLISH_CHARACTERS:\n",
    "            new += ch\n",
    "    text = new\n",
    "    \n",
    "    # if len(text) < 12:\n",
    "    #     return ''\n",
    "    \n",
    "    tokens = word_tokenize(text)\n",
    "    tokens = [lemma.lemmatize(t) for t in tokens if t not in ENGLISH_STOPWORDS]\n",
    "    return ' '.join(tokens)\n",
    "    \n",
    "\n",
    "clean('Today my whatsapp account has been blocked%%%%%%%%%')"
   ]
  },
  {
   "cell_type": "code",
   "execution_count": 85,
   "id": "2e07da6b-b242-42e9-9b45-4972eb779888",
   "metadata": {},
   "outputs": [
    {
     "data": {
      "text/html": [
       "<div>\n",
       "<style scoped>\n",
       "    .dataframe tbody tr th:only-of-type {\n",
       "        vertical-align: middle;\n",
       "    }\n",
       "\n",
       "    .dataframe tbody tr th {\n",
       "        vertical-align: top;\n",
       "    }\n",
       "\n",
       "    .dataframe thead th {\n",
       "        text-align: right;\n",
       "    }\n",
       "</style>\n",
       "<table border=\"1\" class=\"dataframe\">\n",
       "  <thead>\n",
       "    <tr style=\"text-align: right;\">\n",
       "      <th></th>\n",
       "      <th>content</th>\n",
       "      <th>score</th>\n",
       "    </tr>\n",
       "  </thead>\n",
       "  <tbody>\n",
       "    <tr>\n",
       "      <th>0</th>\n",
       "      <td>it is so asome and also it is interesting</td>\n",
       "      <td>5</td>\n",
       "    </tr>\n",
       "    <tr>\n",
       "      <th>4</th>\n",
       "      <td>do not install the game</td>\n",
       "      <td>1</td>\n",
       "    </tr>\n",
       "    <tr>\n",
       "      <th>5</th>\n",
       "      <td>everything will be ok</td>\n",
       "      <td>4</td>\n",
       "    </tr>\n",
       "    <tr>\n",
       "      <th>6</th>\n",
       "      <td>cosmicubes not working for me</td>\n",
       "      <td>3</td>\n",
       "    </tr>\n",
       "    <tr>\n",
       "      <th>7</th>\n",
       "      <td>dear developer nice game but people play this ...</td>\n",
       "      <td>1</td>\n",
       "    </tr>\n",
       "    <tr>\n",
       "      <th>9</th>\n",
       "      <td>i cant play with my friend or cousin when i jo...</td>\n",
       "      <td>1</td>\n",
       "    </tr>\n",
       "    <tr>\n",
       "      <th>11</th>\n",
       "      <td>among u is a great game but it ha some downfal...</td>\n",
       "      <td>2</td>\n",
       "    </tr>\n",
       "    <tr>\n",
       "      <th>13</th>\n",
       "      <td>whenever i become an imposter i always get dis...</td>\n",
       "      <td>2</td>\n",
       "    </tr>\n",
       "    <tr>\n",
       "      <th>14</th>\n",
       "      <td>worst game in the world ever</td>\n",
       "      <td>1</td>\n",
       "    </tr>\n",
       "    <tr>\n",
       "      <th>15</th>\n",
       "      <td>whn the google play is sus</td>\n",
       "      <td>5</td>\n",
       "    </tr>\n",
       "    <tr>\n",
       "      <th>17</th>\n",
       "      <td>dear developer my among u game always disconne...</td>\n",
       "      <td>3</td>\n",
       "    </tr>\n",
       "    <tr>\n",
       "      <th>19</th>\n",
       "      <td>dear developer i love this game but can u guy ...</td>\n",
       "      <td>3</td>\n",
       "    </tr>\n",
       "    <tr>\n",
       "      <th>20</th>\n",
       "      <td>worst fame ever ban it for india surely</td>\n",
       "      <td>1</td>\n",
       "    </tr>\n",
       "    <tr>\n",
       "      <th>21</th>\n",
       "      <td>it hard to play in general i log in and join a...</td>\n",
       "      <td>2</td>\n",
       "    </tr>\n",
       "    <tr>\n",
       "      <th>24</th>\n",
       "      <td>this game is realy cool and the shapeshift is ...</td>\n",
       "      <td>4</td>\n",
       "    </tr>\n",
       "    <tr>\n",
       "      <th>26</th>\n",
       "      <td>i like the game but there is a lack of role th...</td>\n",
       "      <td>3</td>\n",
       "    </tr>\n",
       "    <tr>\n",
       "      <th>29</th>\n",
       "      <td>i wesh if wu gust like the old time</td>\n",
       "      <td>4</td>\n",
       "    </tr>\n",
       "    <tr>\n",
       "      <th>30</th>\n",
       "      <td>i like this game it wa fun i play it everyday</td>\n",
       "      <td>5</td>\n",
       "    </tr>\n",
       "    <tr>\n",
       "      <th>31</th>\n",
       "      <td>this is a great game for time pas but we need ...</td>\n",
       "      <td>5</td>\n",
       "    </tr>\n",
       "    <tr>\n",
       "      <th>32</th>\n",
       "      <td>i am getting auto back problem</td>\n",
       "      <td>2</td>\n",
       "    </tr>\n",
       "  </tbody>\n",
       "</table>\n",
       "</div>"
      ],
      "text/plain": [
       "                                              content  score\n",
       "0           it is so asome and also it is interesting      5\n",
       "4                             do not install the game      1\n",
       "5                               everything will be ok      4\n",
       "6                       cosmicubes not working for me      3\n",
       "7   dear developer nice game but people play this ...      1\n",
       "9   i cant play with my friend or cousin when i jo...      1\n",
       "11  among u is a great game but it ha some downfal...      2\n",
       "13  whenever i become an imposter i always get dis...      2\n",
       "14                       worst game in the world ever      1\n",
       "15                         whn the google play is sus      5\n",
       "17  dear developer my among u game always disconne...      3\n",
       "19  dear developer i love this game but can u guy ...      3\n",
       "20            worst fame ever ban it for india surely      1\n",
       "21  it hard to play in general i log in and join a...      2\n",
       "24  this game is realy cool and the shapeshift is ...      4\n",
       "26  i like the game but there is a lack of role th...      3\n",
       "29                i wesh if wu gust like the old time      4\n",
       "30      i like this game it wa fun i play it everyday      5\n",
       "31  this is a great game for time pas but we need ...      5\n",
       "32                     i am getting auto back problem      2"
      ]
     },
     "execution_count": 85,
     "metadata": {},
     "output_type": "execute_result"
    }
   ],
   "source": [
    "reviews = pd.read_csv(\"Amogus.csv\").loc[:, ['content', 'score']]\n",
    "reviews['content'] = [clean(str(c)) for c in reviews['content']]\n",
    "reviews = reviews[[len(i) >=20 for i in reviews['content']]]\n",
    "\n",
    "reviews.head(20)"
   ]
  },
  {
   "cell_type": "code",
   "execution_count": 86,
   "id": "3a975e61-fc90-4bbe-ad1b-365a1471be47",
   "metadata": {},
   "outputs": [
    {
     "data": {
      "text/plain": [
       "5    22266\n",
       "1    21669\n",
       "4     7767\n",
       "3     6724\n",
       "2     5358\n",
       "Name: score, dtype: int64"
      ]
     },
     "execution_count": 86,
     "metadata": {},
     "output_type": "execute_result"
    }
   ],
   "source": [
    "reviews.score.value_counts()"
   ]
  },
  {
   "cell_type": "code",
   "execution_count": 87,
   "id": "7540aa3c-c84b-4260-9976-e2988b5a2738",
   "metadata": {},
   "outputs": [
    {
     "data": {
      "text/html": [
       "<div>\n",
       "<style scoped>\n",
       "    .dataframe tbody tr th:only-of-type {\n",
       "        vertical-align: middle;\n",
       "    }\n",
       "\n",
       "    .dataframe tbody tr th {\n",
       "        vertical-align: top;\n",
       "    }\n",
       "\n",
       "    .dataframe thead th {\n",
       "        text-align: right;\n",
       "    }\n",
       "</style>\n",
       "<table border=\"1\" class=\"dataframe\">\n",
       "  <thead>\n",
       "    <tr style=\"text-align: right;\">\n",
       "      <th></th>\n",
       "      <th>content</th>\n",
       "      <th>score</th>\n",
       "    </tr>\n",
       "  </thead>\n",
       "  <tbody>\n",
       "    <tr>\n",
       "      <th>93716</th>\n",
       "      <td>doesnt work to join other people</td>\n",
       "      <td>2</td>\n",
       "    </tr>\n",
       "    <tr>\n",
       "      <th>10703</th>\n",
       "      <td>ist nice but it whould be better if we can wri...</td>\n",
       "      <td>4</td>\n",
       "    </tr>\n",
       "    <tr>\n",
       "      <th>76487</th>\n",
       "      <td>the new stuff is dirt</td>\n",
       "      <td>2</td>\n",
       "    </tr>\n",
       "    <tr>\n",
       "      <th>7838</th>\n",
       "      <td>this game used to be fun and it still is my on...</td>\n",
       "      <td>3</td>\n",
       "    </tr>\n",
       "    <tr>\n",
       "      <th>53927</th>\n",
       "      <td>this game is very cool try the game please thi...</td>\n",
       "      <td>5</td>\n",
       "    </tr>\n",
       "    <tr>\n",
       "      <th>...</th>\n",
       "      <td>...</td>\n",
       "      <td>...</td>\n",
       "    </tr>\n",
       "    <tr>\n",
       "      <th>62729</th>\n",
       "      <td>i hak to get imposr ever tim</td>\n",
       "      <td>5</td>\n",
       "    </tr>\n",
       "    <tr>\n",
       "      <th>88161</th>\n",
       "      <td>i like the update but i just hate the fact tha...</td>\n",
       "      <td>2</td>\n",
       "    </tr>\n",
       "    <tr>\n",
       "      <th>33126</th>\n",
       "      <td>would love to give this star a it a great game...</td>\n",
       "      <td>2</td>\n",
       "    </tr>\n",
       "    <tr>\n",
       "      <th>74405</th>\n",
       "      <td>wow this game really change i miss the old one...</td>\n",
       "      <td>2</td>\n",
       "    </tr>\n",
       "    <tr>\n",
       "      <th>25962</th>\n",
       "      <td>i hope that u can add a new map by the way i l...</td>\n",
       "      <td>5</td>\n",
       "    </tr>\n",
       "  </tbody>\n",
       "</table>\n",
       "<p>26790 rows × 2 columns</p>\n",
       "</div>"
      ],
      "text/plain": [
       "                                                 content  score\n",
       "93716                   doesnt work to join other people      2\n",
       "10703  ist nice but it whould be better if we can wri...      4\n",
       "76487                              the new stuff is dirt      2\n",
       "7838   this game used to be fun and it still is my on...      3\n",
       "53927  this game is very cool try the game please thi...      5\n",
       "...                                                  ...    ...\n",
       "62729                       i hak to get imposr ever tim      5\n",
       "88161  i like the update but i just hate the fact tha...      2\n",
       "33126  would love to give this star a it a great game...      2\n",
       "74405  wow this game really change i miss the old one...      2\n",
       "25962  i hope that u can add a new map by the way i l...      5\n",
       "\n",
       "[26790 rows x 2 columns]"
      ]
     },
     "metadata": {},
     "output_type": "display_data"
    },
    {
     "data": {
      "text/plain": [
       "2    5358\n",
       "4    5358\n",
       "3    5358\n",
       "5    5358\n",
       "1    5358\n",
       "Name: score, dtype: int64"
      ]
     },
     "execution_count": 87,
     "metadata": {},
     "output_type": "execute_result"
    }
   ],
   "source": [
    "dfs = []\n",
    "nums = []\n",
    "for score in [1,2,3,4,5]:\n",
    "    temp = reviews[reviews['score']==score]\n",
    "    dfs.append(temp)\n",
    "    nums.append(temp.shape[0])\n",
    "    \n",
    "dfs = [df.sample(min(nums)) for df in dfs]\n",
    "\n",
    "data = pd.concat(dfs, axis=0).sample(frac=1)\n",
    "display(data)\n",
    "\n",
    "data.score.value_counts()"
   ]
  },
  {
   "cell_type": "code",
   "execution_count": 88,
   "id": "a14aadb8-cd35-4c8d-8800-5780803ba8c6",
   "metadata": {},
   "outputs": [
    {
     "data": {
      "text/plain": [
       "((26790,), (26790, 5))"
      ]
     },
     "execution_count": 88,
     "metadata": {},
     "output_type": "execute_result"
    }
   ],
   "source": [
    "x = data['content']\n",
    "y = data['score']\n",
    "\n",
    "from sklearn.preprocessing import OneHotEncoder\n",
    "encoder = OneHotEncoder()\n",
    "one_hot = encoder.fit_transform(y.values.reshape(-1, 1))\n",
    "y = one_hot.toarray()\n",
    "\n",
    "x.shape, y.shape"
   ]
  },
  {
   "cell_type": "code",
   "execution_count": 89,
   "id": "2b449f6b-c638-4fc2-b854-2d04c348af68",
   "metadata": {},
   "outputs": [],
   "source": [
    "MAX_LENGTH = 100"
   ]
  },
  {
   "cell_type": "code",
   "execution_count": 90,
   "id": "a64c6869-35f3-4000-80b4-20218fbdb852",
   "metadata": {},
   "outputs": [
    {
     "name": "stdout",
     "output_type": "stream",
     "text": [
      "(21699,) (21699, 5)\n",
      "(2412,) (2412, 5)\n",
      "(2679,) (2679, 5)\n"
     ]
    }
   ],
   "source": [
    "x_train, x_test, y_train, y_test = train_test_split(x, y, random_state=0, test_size=0.1)\n",
    "x_train, x_val, y_train, y_val = train_test_split(x_train, y_train, test_size=0.1, random_state=0)\n",
    "print(x_train.shape, y_train.shape)\n",
    "print(x_val.shape, y_val.shape)\n",
    "print(x_test.shape, y_test.shape)"
   ]
  },
  {
   "cell_type": "code",
   "execution_count": 91,
   "id": "8002e8a6-4374-4e27-84cb-e871241b40fb",
   "metadata": {},
   "outputs": [],
   "source": [
    "# w2v = Word2Vec(\n",
    "#     [word_tokenize(sentence.lower()) for sentence in x_train.values],\n",
    "#     vector_size=MAX_LENGTH,\n",
    "#     min_count=1\n",
    "# )"
   ]
  },
  {
   "cell_type": "code",
   "execution_count": 92,
   "id": "5d4f3673-fbcf-401d-b8d7-e055abc62392",
   "metadata": {},
   "outputs": [],
   "source": [
    "# len(w2v.wv.index_to_key)"
   ]
  },
  {
   "cell_type": "code",
   "execution_count": 93,
   "id": "f9eb1cc1-f350-4d32-be13-075dcfee453f",
   "metadata": {},
   "outputs": [
    {
     "name": "stdout",
     "output_type": "stream",
     "text": [
      "[35, 87, 25, 5808, 1107, 5809]\n",
      "[2, 49, 17, 9, 5, 143, 3, 167, 364, 65, 57, 37, 234, 3, 92, 206, 25, 6, 543, 2, 195, 1920, 3, 47, 6, 19, 76, 48, 9, 384, 16, 119, 384, 4, 198, 57, 34, 24, 2, 107, 7, 27, 33, 99, 124, 9, 5, 125, 7, 40, 33, 38, 66, 17, 9, 60, 23, 27, 33, 99, 35, 63, 188, 2, 49, 72, 7, 15, 9, 5, 91]\n",
      "[89, 452, 89, 26, 65, 153, 6, 102, 89, 63, 512, 231, 13, 3, 2, 297, 17, 34, 15, 207, 5, 673]\n"
     ]
    }
   ],
   "source": [
    "tokenizer = Tokenizer(oov_token='<OOV>')\n",
    "tokenizer.fit_on_texts(x_train)\n",
    "\n",
    "word_index = tokenizer.word_index\n",
    "\n",
    "x_train_sequences = tokenizer.texts_to_sequences(x_train)\n",
    "x_val_sequences = tokenizer.texts_to_sequences(x_val)\n",
    "x_test_sequences = tokenizer.texts_to_sequences(x_test)\n",
    "\n",
    "for seq in x_train_sequences[:3]:\n",
    "    print(seq)"
   ]
  },
  {
   "cell_type": "code",
   "execution_count": 94,
   "id": "a9f11c8d-29d4-4663-bdb6-071a56cd0a49",
   "metadata": {},
   "outputs": [
    {
     "name": "stdout",
     "output_type": "stream",
     "text": [
      "[  35   87   25 5808 1107 5809    0    0    0    0    0    0    0    0\n",
      "    0    0    0    0    0    0    0    0    0    0    0    0    0    0\n",
      "    0    0    0    0    0    0    0    0    0    0    0    0    0    0\n",
      "    0    0    0    0    0    0    0    0    0    0    0    0    0    0\n",
      "    0    0    0    0    0    0    0    0    0    0    0    0    0    0\n",
      "    0    0    0    0    0    0    0    0    0    0    0    0    0    0\n",
      "    0    0    0    0    0    0    0    0    0    0    0    0    0    0\n",
      "    0    0]\n",
      "[   2   49   17    9    5  143    3  167  364   65   57   37  234    3\n",
      "   92  206   25    6  543    2  195 1920    3   47    6   19   76   48\n",
      "    9  384   16  119  384    4  198   57   34   24    2  107    7   27\n",
      "   33   99  124    9    5  125    7   40   33   38   66   17    9   60\n",
      "   23   27   33   99   35   63  188    2   49   72    7   15    9    5\n",
      "   91    0    0    0    0    0    0    0    0    0    0    0    0    0\n",
      "    0    0    0    0    0    0    0    0    0    0    0    0    0    0\n",
      "    0    0]\n",
      "[ 89 452  89  26  65 153   6 102  89  63 512 231  13   3   2 297  17  34\n",
      "  15 207   5 673   0   0   0   0   0   0   0   0   0   0   0   0   0   0\n",
      "   0   0   0   0   0   0   0   0   0   0   0   0   0   0   0   0   0   0\n",
      "   0   0   0   0   0   0   0   0   0   0   0   0   0   0   0   0   0   0\n",
      "   0   0   0   0   0   0   0   0   0   0   0   0   0   0   0   0   0   0\n",
      "   0   0   0   0   0   0   0   0   0   0]\n"
     ]
    }
   ],
   "source": [
    "x_train = pad_sequences(x_train_sequences, \n",
    "                                maxlen=MAX_LENGTH,\n",
    "                                padding='post',\n",
    "                                truncating='post')\n",
    "\n",
    "x_val = pad_sequences(x_val_sequences,\n",
    "                             maxlen=MAX_LENGTH,\n",
    "                             padding='post',\n",
    "                             truncating='post')\n",
    "\n",
    "x_test = pad_sequences(x_test_sequences,\n",
    "                             maxlen=MAX_LENGTH,\n",
    "                             padding='post',\n",
    "                             truncating='post')\n",
    "\n",
    "for seq in x_train[:3]:\n",
    "    print(seq)"
   ]
  },
  {
   "cell_type": "code",
   "execution_count": 95,
   "id": "15c43f4a-4df4-4e20-a54f-03efc87a0d5a",
   "metadata": {},
   "outputs": [
    {
     "data": {
      "text/plain": [
       "400000"
      ]
     },
     "execution_count": 95,
     "metadata": {},
     "output_type": "execute_result"
    }
   ],
   "source": [
    "\n",
    "\n",
    "embeddings_dict = {}\n",
    "with open('glove.6B.100d.txt', 'r', encoding='utf-8') as f:\n",
    "    for line in f:\n",
    "        values = line.split()\n",
    "        word = values[0]\n",
    "        vector = np.asarray(values[1:], 'float32')\n",
    "        embeddings_dict[word] = vector\n",
    "len(embeddings_dict)"
   ]
  },
  {
   "cell_type": "code",
   "execution_count": 96,
   "id": "353a77d6-31b4-4aaf-ab21-3d9ddc700383",
   "metadata": {},
   "outputs": [
    {
     "data": {
      "text/plain": [
       "(16233, 100)"
      ]
     },
     "execution_count": 96,
     "metadata": {},
     "output_type": "execute_result"
    }
   ],
   "source": [
    "embedding_matrix = np.zeros((len(word_index)+1, MAX_LENGTH))\n",
    "for word,i in word_index.items():\n",
    "    embedding_matrix[i] = embeddings_dict.get(word, np.zeros(MAX_LENGTH))\n",
    "    \n",
    "embedding_matrix.shape"
   ]
  },
  {
   "cell_type": "code",
   "execution_count": null,
   "id": "286159bc-30dc-43ff-a6f7-68b525fbc82c",
   "metadata": {},
   "outputs": [],
   "source": []
  },
  {
   "cell_type": "code",
   "execution_count": 97,
   "id": "92767dfd-d1d3-424f-88ed-f960e1247430",
   "metadata": {},
   "outputs": [],
   "source": [
    "# model = Sequential([\n",
    "#     Embedding(len(word_index)+1, MAX_LENGTH, input_length=MAX_LENGTH, weights=[embedding_matrix]),\n",
    "#     GRU(128,return_sequence=True),\n",
    "#     GRU(128,return_sequence=True),\n",
    "#     GRU(128),\n",
    "#     Dense(128, activation='relu'),\n",
    "#     Dense(5, activation='softmax')\n",
    "# ])\n",
    "\n",
    "# model.compile(optimizer='adam', loss='categorical_crossentropy', metrics=['accuracy'])"
   ]
  },
  {
   "cell_type": "code",
   "execution_count": 98,
   "id": "6bd38c3f",
   "metadata": {},
   "outputs": [
    {
     "data": {
      "text/plain": [
       "array([[ 35,  87,  25, ...,   0,   0,   0],\n",
       "       [  2,  49,  17, ...,   0,   0,   0],\n",
       "       [ 89, 452,  89, ...,   0,   0,   0],\n",
       "       ...,\n",
       "       [  2,  17,   9, ...,   0,   0,   0],\n",
       "       [776,  51, 459, ...,   0,   0,   0],\n",
       "       [  2, 294,   4, ...,   0,   0,   0]])"
      ]
     },
     "execution_count": 98,
     "metadata": {},
     "output_type": "execute_result"
    }
   ],
   "source": [
    "x_train"
   ]
  },
  {
   "cell_type": "code",
   "execution_count": 99,
   "id": "bec7e3f3",
   "metadata": {},
   "outputs": [],
   "source": [
    "baseline_model = Sequential()\n",
    "baseline_model.add(Embedding(len(word_index)+1, MAX_LENGTH, input_length=MAX_LENGTH, weights=[embedding_matrix]))\n",
    "baseline_model.add(GRU(32, return_sequences=True))\n",
    "baseline_model.add(GRU(32, return_sequences=True))\n",
    "baseline_model.add(GRU(32))\n",
    "baseline_model.add(Dense(5, activation='softmax'))\n",
    "baseline_model.compile(optimizer='adam', loss='categorical_crossentropy', metrics=['accuracy'])"
   ]
  },
  {
   "cell_type": "code",
   "execution_count": null,
   "id": "284112b0-ee0b-4ce6-b565-89c55f002f97",
   "metadata": {},
   "outputs": [
    {
     "name": "stdout",
     "output_type": "stream",
     "text": [
      "Epoch 1/20\n",
      "679/679 [==============================] - 72s 98ms/step - loss: 1.6088 - accuracy: 0.2028 - val_loss: 1.6068 - val_accuracy: 0.2226\n",
      "Epoch 2/20\n",
      "679/679 [==============================] - 65s 95ms/step - loss: 1.5211 - accuracy: 0.2978 - val_loss: 1.3274 - val_accuracy: 0.4229\n",
      "Epoch 3/20\n",
      "679/679 [==============================] - 65s 96ms/step - loss: 1.2910 - accuracy: 0.4466 - val_loss: 1.2512 - val_accuracy: 0.4639\n",
      "Epoch 4/20\n",
      "679/679 [==============================] - 66s 97ms/step - loss: 1.1916 - accuracy: 0.5027 - val_loss: 1.2783 - val_accuracy: 0.4590\n",
      "Epoch 5/20\n",
      " 59/679 [=>............................] - ETA: 58s - loss: 1.0699 - accuracy: 0.5588"
     ]
    }
   ],
   "source": [
    "baseline_model.fit(x_train, y_train, epochs=20, validation_data=(x_val, y_val))"
   ]
  },
  {
   "cell_type": "code",
   "execution_count": null,
   "id": "e71ae4f0-614c-4ed0-b5e8-e8b7716208bd",
   "metadata": {},
   "outputs": [],
   "source": []
  },
  {
   "cell_type": "code",
   "execution_count": null,
   "id": "7f6e352e-2cd9-451e-866a-099ebf49a7ac",
   "metadata": {},
   "outputs": [],
   "source": []
  }
 ],
 "metadata": {
  "kernelspec": {
   "display_name": "Python 3 (ipykernel)",
   "language": "python",
   "name": "python3"
  },
  "language_info": {
   "codemirror_mode": {
    "name": "ipython",
    "version": 3
   },
   "file_extension": ".py",
   "mimetype": "text/x-python",
   "name": "python",
   "nbconvert_exporter": "python",
   "pygments_lexer": "ipython3",
   "version": "3.9.13"
  }
 },
 "nbformat": 4,
 "nbformat_minor": 5
}
